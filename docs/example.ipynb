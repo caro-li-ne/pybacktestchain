{
 "cells": [
  {
   "cell_type": "markdown",
   "metadata": {},
   "source": [
    "# Example usage\n",
    "\n",
    "To use `pybacktestchain` in a project:"
   ]
  },
  {
   "cell_type": "code",
   "execution_count": null,
   "metadata": {},
   "outputs": [],
   "source": [
    "\n",
    "from pybacktestchain.data_module import FirstTwoMoments\n",
    "from pybacktestchain.broker import Backtest, StopLoss\n",
    "from pybacktestchain.blockchain import load_blockchain\n",
    "from datetime import datetime\n",
    "\n",
    "# Set verbosity for logging\n",
    "verbose = False  # Set to True to enable logging, or False to suppress it\n",
    "\n",
    "backtest = Backtest(\n",
    "    initial_date=datetime(2019, 1, 1),\n",
    "    final_date=datetime(2020, 1, 1),\n",
    "    information_class=FirstTwoMoments,\n",
    "    risk_model=StopLoss,\n",
    "    name_blockchain='backtest',\n",
    "    verbose=verbose\n",
    ")\n",
    "\n",
    "backtest.run_backtest()\n",
    "\n",
    "block_chain = load_blockchain('backtest')\n",
    "print(str(block_chain))\n",
    "# check if the blockchain is valid\n",
    "print(block_chain.is_valid())"
   ]
  }
 ],
 "metadata": {
  "kernelspec": {
   "display_name": "Python 3",
   "language": "python",
   "name": "python3"
  },
  "language_info": {
   "codemirror_mode": {
    "name": "ipython",
    "version": 3
   },
   "file_extension": ".py",
   "mimetype": "text/x-python",
   "name": "python",
   "nbconvert_exporter": "python",
   "pygments_lexer": "ipython3",
   "version": "3.8.5"
  }
 },
 "nbformat": 4,
 "nbformat_minor": 4
}

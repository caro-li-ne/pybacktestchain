{
 "cells": [
  {
   "cell_type": "code",
   "execution_count": 1,
   "metadata": {},
   "outputs": [],
   "source": [
    "from data_module import *\n",
    "import pandas as pd\n",
    "from datetime import date, timedelta, datetime"
   ]
  },
  {
   "cell_type": "code",
   "execution_count": 2,
   "metadata": {},
   "outputs": [
    {
     "data": {
      "text/html": [
       "<div>\n",
       "<style scoped>\n",
       "    .dataframe tbody tr th:only-of-type {\n",
       "        vertical-align: middle;\n",
       "    }\n",
       "\n",
       "    .dataframe tbody tr th {\n",
       "        vertical-align: top;\n",
       "    }\n",
       "\n",
       "    .dataframe thead th {\n",
       "        text-align: right;\n",
       "    }\n",
       "</style>\n",
       "<table border=\"1\" class=\"dataframe\">\n",
       "  <thead>\n",
       "    <tr style=\"text-align: right;\">\n",
       "      <th></th>\n",
       "      <th>Date</th>\n",
       "      <th>Open</th>\n",
       "      <th>High</th>\n",
       "      <th>Low</th>\n",
       "      <th>Close</th>\n",
       "      <th>Adj Close</th>\n",
       "      <th>Volume</th>\n",
       "      <th>ticker</th>\n",
       "    </tr>\n",
       "  </thead>\n",
       "  <tbody>\n",
       "    <tr>\n",
       "      <th>0</th>\n",
       "      <td>2020-01-02 00:00:00+01:00</td>\n",
       "      <td>53.200001</td>\n",
       "      <td>54.000000</td>\n",
       "      <td>53.180000</td>\n",
       "      <td>53.580002</td>\n",
       "      <td>37.128826</td>\n",
       "      <td>2783637</td>\n",
       "      <td>BNP.PA</td>\n",
       "    </tr>\n",
       "    <tr>\n",
       "      <th>1</th>\n",
       "      <td>2020-01-03 00:00:00+01:00</td>\n",
       "      <td>53.070000</td>\n",
       "      <td>53.169998</td>\n",
       "      <td>52.590000</td>\n",
       "      <td>52.939999</td>\n",
       "      <td>36.685329</td>\n",
       "      <td>2535225</td>\n",
       "      <td>BNP.PA</td>\n",
       "    </tr>\n",
       "    <tr>\n",
       "      <th>2</th>\n",
       "      <td>2020-01-06 00:00:00+01:00</td>\n",
       "      <td>52.040001</td>\n",
       "      <td>52.700001</td>\n",
       "      <td>51.639999</td>\n",
       "      <td>52.680000</td>\n",
       "      <td>36.505161</td>\n",
       "      <td>2494787</td>\n",
       "      <td>BNP.PA</td>\n",
       "    </tr>\n",
       "    <tr>\n",
       "      <th>3</th>\n",
       "      <td>2020-01-07 00:00:00+01:00</td>\n",
       "      <td>52.930000</td>\n",
       "      <td>53.139999</td>\n",
       "      <td>52.459999</td>\n",
       "      <td>52.660000</td>\n",
       "      <td>36.491299</td>\n",
       "      <td>2022813</td>\n",
       "      <td>BNP.PA</td>\n",
       "    </tr>\n",
       "    <tr>\n",
       "      <th>4</th>\n",
       "      <td>2020-01-08 00:00:00+01:00</td>\n",
       "      <td>52.270000</td>\n",
       "      <td>53.020000</td>\n",
       "      <td>52.009998</td>\n",
       "      <td>52.779999</td>\n",
       "      <td>36.574455</td>\n",
       "      <td>2893097</td>\n",
       "      <td>BNP.PA</td>\n",
       "    </tr>\n",
       "    <tr>\n",
       "      <th>...</th>\n",
       "      <td>...</td>\n",
       "      <td>...</td>\n",
       "      <td>...</td>\n",
       "      <td>...</td>\n",
       "      <td>...</td>\n",
       "      <td>...</td>\n",
       "      <td>...</td>\n",
       "      <td>...</td>\n",
       "    </tr>\n",
       "    <tr>\n",
       "      <th>1218</th>\n",
       "      <td>2024-09-30 00:00:00+02:00</td>\n",
       "      <td>22.600000</td>\n",
       "      <td>22.600000</td>\n",
       "      <td>22.040001</td>\n",
       "      <td>22.350000</td>\n",
       "      <td>22.350000</td>\n",
       "      <td>4453339</td>\n",
       "      <td>GLE.PA</td>\n",
       "    </tr>\n",
       "    <tr>\n",
       "      <th>1219</th>\n",
       "      <td>2024-10-01 00:00:00+02:00</td>\n",
       "      <td>22.360001</td>\n",
       "      <td>22.469999</td>\n",
       "      <td>21.815001</td>\n",
       "      <td>22.065001</td>\n",
       "      <td>22.065001</td>\n",
       "      <td>4416047</td>\n",
       "      <td>GLE.PA</td>\n",
       "    </tr>\n",
       "    <tr>\n",
       "      <th>1220</th>\n",
       "      <td>2024-10-02 00:00:00+02:00</td>\n",
       "      <td>22.000000</td>\n",
       "      <td>22.170000</td>\n",
       "      <td>21.930000</td>\n",
       "      <td>22.125000</td>\n",
       "      <td>22.125000</td>\n",
       "      <td>1694651</td>\n",
       "      <td>GLE.PA</td>\n",
       "    </tr>\n",
       "    <tr>\n",
       "      <th>1221</th>\n",
       "      <td>2024-10-03 00:00:00+02:00</td>\n",
       "      <td>22.014999</td>\n",
       "      <td>22.065001</td>\n",
       "      <td>21.709999</td>\n",
       "      <td>21.834999</td>\n",
       "      <td>21.834999</td>\n",
       "      <td>2621235</td>\n",
       "      <td>GLE.PA</td>\n",
       "    </tr>\n",
       "    <tr>\n",
       "      <th>1222</th>\n",
       "      <td>2024-10-04 00:00:00+02:00</td>\n",
       "      <td>21.875000</td>\n",
       "      <td>22.690001</td>\n",
       "      <td>21.875000</td>\n",
       "      <td>22.415001</td>\n",
       "      <td>22.415001</td>\n",
       "      <td>4947528</td>\n",
       "      <td>GLE.PA</td>\n",
       "    </tr>\n",
       "  </tbody>\n",
       "</table>\n",
       "<p>3669 rows × 8 columns</p>\n",
       "</div>"
      ],
      "text/plain": [
       "                          Date       Open       High        Low      Close  \\\n",
       "0    2020-01-02 00:00:00+01:00  53.200001  54.000000  53.180000  53.580002   \n",
       "1    2020-01-03 00:00:00+01:00  53.070000  53.169998  52.590000  52.939999   \n",
       "2    2020-01-06 00:00:00+01:00  52.040001  52.700001  51.639999  52.680000   \n",
       "3    2020-01-07 00:00:00+01:00  52.930000  53.139999  52.459999  52.660000   \n",
       "4    2020-01-08 00:00:00+01:00  52.270000  53.020000  52.009998  52.779999   \n",
       "...                        ...        ...        ...        ...        ...   \n",
       "1218 2024-09-30 00:00:00+02:00  22.600000  22.600000  22.040001  22.350000   \n",
       "1219 2024-10-01 00:00:00+02:00  22.360001  22.469999  21.815001  22.065001   \n",
       "1220 2024-10-02 00:00:00+02:00  22.000000  22.170000  21.930000  22.125000   \n",
       "1221 2024-10-03 00:00:00+02:00  22.014999  22.065001  21.709999  21.834999   \n",
       "1222 2024-10-04 00:00:00+02:00  21.875000  22.690001  21.875000  22.415001   \n",
       "\n",
       "      Adj Close   Volume  ticker  \n",
       "0     37.128826  2783637  BNP.PA  \n",
       "1     36.685329  2535225  BNP.PA  \n",
       "2     36.505161  2494787  BNP.PA  \n",
       "3     36.491299  2022813  BNP.PA  \n",
       "4     36.574455  2893097  BNP.PA  \n",
       "...         ...      ...     ...  \n",
       "1218  22.350000  4453339  GLE.PA  \n",
       "1219  22.065001  4416047  GLE.PA  \n",
       "1220  22.125000  1694651  GLE.PA  \n",
       "1221  21.834999  2621235  GLE.PA  \n",
       "1222  22.415001  4947528  GLE.PA  \n",
       "\n",
       "[3669 rows x 8 columns]"
      ]
     },
     "execution_count": 2,
     "metadata": {},
     "output_type": "execute_result"
    }
   ],
   "source": [
    "# Sections of tickers and dates\n",
    "tickers = ['BNP.PA','ACA.PA','GLE.PA'] # tickers of BNP, Crédit Agricole and Société Générale\n",
    "\n",
    "start_d = '2020-01-01'\n",
    "end_d = date.today()\n",
    "\n",
    "df = get_stocks_data(tickers,start_d, end_d)\n",
    "df"
   ]
  },
  {
   "cell_type": "code",
   "execution_count": 3,
   "metadata": {},
   "outputs": [
    {
     "data": {
      "text/plain": [
       "DataModule(data=                          Date       Open       High        Low      Close  \\\n",
       "0    2020-01-02 00:00:00+01:00  53.200001  54.000000  53.180000  53.580002   \n",
       "1    2020-01-03 00:00:00+01:00  53.070000  53.169998  52.590000  52.939999   \n",
       "2    2020-01-06 00:00:00+01:00  52.040001  52.700001  51.639999  52.680000   \n",
       "3    2020-01-07 00:00:00+01:00  52.930000  53.139999  52.459999  52.660000   \n",
       "4    2020-01-08 00:00:00+01:00  52.270000  53.020000  52.009998  52.779999   \n",
       "...                        ...        ...        ...        ...        ...   \n",
       "1218 2024-09-30 00:00:00+02:00  22.600000  22.600000  22.040001  22.350000   \n",
       "1219 2024-10-01 00:00:00+02:00  22.360001  22.469999  21.815001  22.065001   \n",
       "1220 2024-10-02 00:00:00+02:00  22.000000  22.170000  21.930000  22.125000   \n",
       "1221 2024-10-03 00:00:00+02:00  22.014999  22.065001  21.709999  21.834999   \n",
       "1222 2024-10-04 00:00:00+02:00  21.875000  22.690001  21.875000  22.415001   \n",
       "\n",
       "      Adj Close   Volume  ticker  \n",
       "0     37.128826  2783637  BNP.PA  \n",
       "1     36.685329  2535225  BNP.PA  \n",
       "2     36.505161  2494787  BNP.PA  \n",
       "3     36.491299  2022813  BNP.PA  \n",
       "4     36.574455  2893097  BNP.PA  \n",
       "...         ...      ...     ...  \n",
       "1218  22.350000  4453339  GLE.PA  \n",
       "1219  22.065001  4416047  GLE.PA  \n",
       "1220  22.125000  1694651  GLE.PA  \n",
       "1221  21.834999  2621235  GLE.PA  \n",
       "1222  22.415001  4947528  GLE.PA  \n",
       "\n",
       "[3669 rows x 8 columns])"
      ]
     },
     "execution_count": 3,
     "metadata": {},
     "output_type": "execute_result"
    }
   ],
   "source": [
    "data_module = DataModule(data = df)\n",
    "data_module"
   ]
  },
  {
   "cell_type": "code",
   "execution_count": 4,
   "metadata": {},
   "outputs": [
    {
     "name": "stdout",
     "output_type": "stream",
     "text": [
      "['BNP.PA' 'ACA.PA' 'GLE.PA']\n",
      "3\n"
     ]
    }
   ],
   "source": [
    "# Checking the tickers and the number of companies in the dataframe\n",
    "print(data_module.data['ticker'].unique())\n",
    "print(data_module.data['ticker'].nunique())"
   ]
  },
  {
   "cell_type": "code",
   "execution_count": 5,
   "metadata": {},
   "outputs": [
    {
     "name": "stdout",
     "output_type": "stream",
     "text": [
      "Lenght of the data :  29352\n",
      "Number of observations per company : 9784.0\n"
     ]
    }
   ],
   "source": [
    "# Lenght of the data\n",
    "print(\"Lenght of the data : \", data_module.data.size)\n",
    "\n",
    "# number of observation per company\n",
    "nb_data = data_module.data.size/data_module.data['ticker'].nunique()\n",
    "print(\"Number of observations per company :\", nb_data)"
   ]
  },
  {
   "cell_type": "code",
   "execution_count": null,
   "metadata": {},
   "outputs": [
    {
     "data": {
      "text/html": [
       "<div>\n",
       "<style scoped>\n",
       "    .dataframe tbody tr th:only-of-type {\n",
       "        vertical-align: middle;\n",
       "    }\n",
       "\n",
       "    .dataframe tbody tr th {\n",
       "        vertical-align: top;\n",
       "    }\n",
       "\n",
       "    .dataframe thead th {\n",
       "        text-align: right;\n",
       "    }\n",
       "</style>\n",
       "<table border=\"1\" class=\"dataframe\">\n",
       "  <thead>\n",
       "    <tr style=\"text-align: right;\">\n",
       "      <th></th>\n",
       "      <th>Date</th>\n",
       "      <th>Open</th>\n",
       "      <th>High</th>\n",
       "      <th>Low</th>\n",
       "      <th>Close</th>\n",
       "      <th>Adj Close</th>\n",
       "      <th>Volume</th>\n",
       "      <th>ticker</th>\n",
       "    </tr>\n",
       "  </thead>\n",
       "  <tbody>\n",
       "    <tr>\n",
       "      <th>0</th>\n",
       "      <td>2020-01-02 00:00:00+01:00</td>\n",
       "      <td>53.200001</td>\n",
       "      <td>54.000000</td>\n",
       "      <td>53.180000</td>\n",
       "      <td>53.580002</td>\n",
       "      <td>37.128826</td>\n",
       "      <td>2783637</td>\n",
       "      <td>BNP.PA</td>\n",
       "    </tr>\n",
       "    <tr>\n",
       "      <th>1</th>\n",
       "      <td>2020-01-03 00:00:00+01:00</td>\n",
       "      <td>53.070000</td>\n",
       "      <td>53.169998</td>\n",
       "      <td>52.590000</td>\n",
       "      <td>52.939999</td>\n",
       "      <td>36.685329</td>\n",
       "      <td>2535225</td>\n",
       "      <td>BNP.PA</td>\n",
       "    </tr>\n",
       "    <tr>\n",
       "      <th>2</th>\n",
       "      <td>2020-01-06 00:00:00+01:00</td>\n",
       "      <td>52.040001</td>\n",
       "      <td>52.700001</td>\n",
       "      <td>51.639999</td>\n",
       "      <td>52.680000</td>\n",
       "      <td>36.505161</td>\n",
       "      <td>2494787</td>\n",
       "      <td>BNP.PA</td>\n",
       "    </tr>\n",
       "    <tr>\n",
       "      <th>3</th>\n",
       "      <td>2020-01-07 00:00:00+01:00</td>\n",
       "      <td>52.930000</td>\n",
       "      <td>53.139999</td>\n",
       "      <td>52.459999</td>\n",
       "      <td>52.660000</td>\n",
       "      <td>36.491299</td>\n",
       "      <td>2022813</td>\n",
       "      <td>BNP.PA</td>\n",
       "    </tr>\n",
       "    <tr>\n",
       "      <th>4</th>\n",
       "      <td>2020-01-08 00:00:00+01:00</td>\n",
       "      <td>52.270000</td>\n",
       "      <td>53.020000</td>\n",
       "      <td>52.009998</td>\n",
       "      <td>52.779999</td>\n",
       "      <td>36.574455</td>\n",
       "      <td>2893097</td>\n",
       "      <td>BNP.PA</td>\n",
       "    </tr>\n",
       "    <tr>\n",
       "      <th>...</th>\n",
       "      <td>...</td>\n",
       "      <td>...</td>\n",
       "      <td>...</td>\n",
       "      <td>...</td>\n",
       "      <td>...</td>\n",
       "      <td>...</td>\n",
       "      <td>...</td>\n",
       "      <td>...</td>\n",
       "    </tr>\n",
       "    <tr>\n",
       "      <th>1218</th>\n",
       "      <td>2024-09-30 00:00:00+02:00</td>\n",
       "      <td>22.600000</td>\n",
       "      <td>22.600000</td>\n",
       "      <td>22.040001</td>\n",
       "      <td>22.350000</td>\n",
       "      <td>22.350000</td>\n",
       "      <td>4453339</td>\n",
       "      <td>GLE.PA</td>\n",
       "    </tr>\n",
       "    <tr>\n",
       "      <th>1219</th>\n",
       "      <td>2024-10-01 00:00:00+02:00</td>\n",
       "      <td>22.360001</td>\n",
       "      <td>22.469999</td>\n",
       "      <td>21.815001</td>\n",
       "      <td>22.065001</td>\n",
       "      <td>22.065001</td>\n",
       "      <td>4416047</td>\n",
       "      <td>GLE.PA</td>\n",
       "    </tr>\n",
       "    <tr>\n",
       "      <th>1220</th>\n",
       "      <td>2024-10-02 00:00:00+02:00</td>\n",
       "      <td>22.000000</td>\n",
       "      <td>22.170000</td>\n",
       "      <td>21.930000</td>\n",
       "      <td>22.125000</td>\n",
       "      <td>22.125000</td>\n",
       "      <td>1694651</td>\n",
       "      <td>GLE.PA</td>\n",
       "    </tr>\n",
       "    <tr>\n",
       "      <th>1221</th>\n",
       "      <td>2024-10-03 00:00:00+02:00</td>\n",
       "      <td>22.014999</td>\n",
       "      <td>22.065001</td>\n",
       "      <td>21.709999</td>\n",
       "      <td>21.834999</td>\n",
       "      <td>21.834999</td>\n",
       "      <td>2621235</td>\n",
       "      <td>GLE.PA</td>\n",
       "    </tr>\n",
       "    <tr>\n",
       "      <th>1222</th>\n",
       "      <td>2024-10-04 00:00:00+02:00</td>\n",
       "      <td>21.875000</td>\n",
       "      <td>22.690001</td>\n",
       "      <td>21.875000</td>\n",
       "      <td>22.415001</td>\n",
       "      <td>22.415001</td>\n",
       "      <td>4947528</td>\n",
       "      <td>GLE.PA</td>\n",
       "    </tr>\n",
       "  </tbody>\n",
       "</table>\n",
       "<p>3669 rows × 8 columns</p>\n",
       "</div>"
      ],
      "text/plain": [
       "                          Date       Open       High        Low      Close  \\\n",
       "0    2020-01-02 00:00:00+01:00  53.200001  54.000000  53.180000  53.580002   \n",
       "1    2020-01-03 00:00:00+01:00  53.070000  53.169998  52.590000  52.939999   \n",
       "2    2020-01-06 00:00:00+01:00  52.040001  52.700001  51.639999  52.680000   \n",
       "3    2020-01-07 00:00:00+01:00  52.930000  53.139999  52.459999  52.660000   \n",
       "4    2020-01-08 00:00:00+01:00  52.270000  53.020000  52.009998  52.779999   \n",
       "...                        ...        ...        ...        ...        ...   \n",
       "1218 2024-09-30 00:00:00+02:00  22.600000  22.600000  22.040001  22.350000   \n",
       "1219 2024-10-01 00:00:00+02:00  22.360001  22.469999  21.815001  22.065001   \n",
       "1220 2024-10-02 00:00:00+02:00  22.000000  22.170000  21.930000  22.125000   \n",
       "1221 2024-10-03 00:00:00+02:00  22.014999  22.065001  21.709999  21.834999   \n",
       "1222 2024-10-04 00:00:00+02:00  21.875000  22.690001  21.875000  22.415001   \n",
       "\n",
       "      Adj Close   Volume  ticker  \n",
       "0     37.128826  2783637  BNP.PA  \n",
       "1     36.685329  2535225  BNP.PA  \n",
       "2     36.505161  2494787  BNP.PA  \n",
       "3     36.491299  2022813  BNP.PA  \n",
       "4     36.574455  2893097  BNP.PA  \n",
       "...         ...      ...     ...  \n",
       "1218  22.350000  4453339  GLE.PA  \n",
       "1219  22.065001  4416047  GLE.PA  \n",
       "1220  22.125000  1694651  GLE.PA  \n",
       "1221  21.834999  2621235  GLE.PA  \n",
       "1222  22.415001  4947528  GLE.PA  \n",
       "\n",
       "[3669 rows x 8 columns]"
      ]
     },
     "execution_count": 6,
     "metadata": {},
     "output_type": "execute_result"
    }
   ],
   "source": [
    "date_time = pd.to_datetime(end_d, utc = True)\n",
    "sliced_data = Information(s=timedelta(nb_data), data_module=data_module).slice_data(date_time)\n",
    "sliced_data"
   ]
  },
  {
   "cell_type": "code",
   "execution_count": 7,
   "metadata": {},
   "outputs": [
    {
     "data": {
      "text/plain": [
       "{'expected_return': array([2.54928604e-04, 3.64483906e-04, 8.47956587e-05]),\n",
       " 'covariance_matrix': array([[  4.10927742,  18.04399029,   7.26652832],\n",
       "        [ 18.04399029, 100.92513636,  38.7730021 ],\n",
       "        [  7.26652832,  38.7730021 ,  24.09752472]]),\n",
       " 'companies': array(['ACA.PA', 'BNP.PA', 'GLE.PA'], dtype=object)}"
      ]
     },
     "execution_count": 7,
     "metadata": {},
     "output_type": "execute_result"
    }
   ],
   "source": [
    "# Moments \n",
    "moments = FirstTwoMoments(s = timedelta(nb_data), data_module=data_module)\n",
    "\n",
    "# Dictionary giving expected returns and covariance matrices of the companies\n",
    "info = moments.compute_information(date_time)\n",
    "info"
   ]
  },
  {
   "cell_type": "code",
   "execution_count": 8,
   "metadata": {},
   "outputs": [
    {
     "data": {
      "text/plain": [
       "{'ACA.PA': 1.170182986565469,\n",
       " 'BNP.PA': -0.21302693308890427,\n",
       " 'GLE.PA': 0.04284394652343537}"
      ]
     },
     "execution_count": 8,
     "metadata": {},
     "output_type": "execute_result"
    }
   ],
   "source": [
    "# using the Compute_portfolio function of the Professor\n",
    "Mean_Var_porfolio = moments.compute_portfolio(date_time, info)\n",
    "Mean_Var_porfolio"
   ]
  },
  {
   "cell_type": "code",
   "execution_count": 9,
   "metadata": {},
   "outputs": [
    {
     "data": {
      "text/plain": [
       "1.0"
      ]
     },
     "execution_count": 9,
     "metadata": {},
     "output_type": "execute_result"
    }
   ],
   "source": [
    "# Checking that all weights = 1 \n",
    "sum(Mean_Var_porfolio.values())"
   ]
  },
  {
   "cell_type": "code",
   "execution_count": 10,
   "metadata": {},
   "outputs": [
    {
     "data": {
      "text/plain": [
       "{'ACA.PA': 0.6, 'BNP.PA': 6.038497128487719e-11, 'GLE.PA': 0.39999999979935685}"
      ]
     },
     "execution_count": 10,
     "metadata": {},
     "output_type": "execute_result"
    }
   ],
   "source": [
    "# using My function of Risk Parity strategy\n",
    "Risk_Par_pf = moments.compute_Risky_Parity_portfolio(date_time, info)\n",
    "Risk_Par_pf"
   ]
  },
  {
   "cell_type": "code",
   "execution_count": null,
   "metadata": {},
   "outputs": [],
   "source": []
  },
  {
   "cell_type": "code",
   "execution_count": null,
   "metadata": {},
   "outputs": [],
   "source": []
  },
  {
   "cell_type": "code",
   "execution_count": null,
   "metadata": {},
   "outputs": [],
   "source": []
  }
 ],
 "metadata": {
  "kernelspec": {
   "display_name": "pybacktestchain",
   "language": "python",
   "name": "python3"
  },
  "language_info": {
   "codemirror_mode": {
    "name": "ipython",
    "version": 3
   },
   "file_extension": ".py",
   "mimetype": "text/x-python",
   "name": "python",
   "nbconvert_exporter": "python",
   "pygments_lexer": "ipython3",
   "version": "3.12.6"
  }
 },
 "nbformat": 4,
 "nbformat_minor": 2
}

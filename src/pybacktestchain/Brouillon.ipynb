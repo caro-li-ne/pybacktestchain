{
 "cells": [
  {
   "cell_type": "code",
   "execution_count": null,
   "metadata": {},
   "outputs": [],
   "source": []
  },
  {
   "cell_type": "code",
   "execution_count": 1,
   "metadata": {},
   "outputs": [],
   "source": [
    "class MyClass:\n",
    "    # This is a class attribute\n",
    "    class_variable = \"I am a class variable\"\n",
    "    \n",
    "    # This is the constructor method\n",
    "    def __init__(self, value):\n",
    "        # This is an instance attribute\n",
    "        self.instance_variable = value\n",
    "\n",
    "    # This is a method\n",
    "    def print_value(self):\n",
    "        print(f\"Instance variable: {self.instance_variable}\")\n",
    "    \n",
    "    def calcul(self,nb1, nb2, nb3):\n",
    "        self.nb1 = nb1\n",
    "        self.nb2 = nb2\n",
    "        self.nb3 = nb3\n",
    "        self.nombre = self.nb1 + self.nb2 + self.nb3\n",
    "        print(\"la somme \", self.nombre)"
   ]
  },
  {
   "cell_type": "code",
   "execution_count": 2,
   "metadata": {},
   "outputs": [
    {
     "name": "stdout",
     "output_type": "stream",
     "text": [
      "Instance variable: Hello\n",
      "la somme  6\n"
     ]
    }
   ],
   "source": [
    "# Creating an instance (object) of MyClass\n",
    "obj = MyClass(\"Hello\")\n",
    "\n",
    "# Accessing the instance attribute and class method\n",
    "obj.print_value()  # Output: Instance variable: Hello\n",
    "\n",
    "obj.calcul(1,2,3)"
   ]
  },
  {
   "cell_type": "code",
   "execution_count": 3,
   "metadata": {},
   "outputs": [
    {
     "name": "stdout",
     "output_type": "stream",
     "text": [
      "la somme  6\n"
     ]
    }
   ],
   "source": [
    "MyClass(10).calcul(2,2,2)"
   ]
  },
  {
   "cell_type": "code",
   "execution_count": null,
   "metadata": {},
   "outputs": [],
   "source": []
  }
 ],
 "metadata": {
  "kernelspec": {
   "display_name": "pybacktestchain",
   "language": "python",
   "name": "python3"
  },
  "language_info": {
   "codemirror_mode": {
    "name": "ipython",
    "version": 3
   },
   "file_extension": ".py",
   "mimetype": "text/x-python",
   "name": "python",
   "nbconvert_exporter": "python",
   "pygments_lexer": "ipython3",
   "version": "3.12.6"
  }
 },
 "nbformat": 4,
 "nbformat_minor": 2
}
